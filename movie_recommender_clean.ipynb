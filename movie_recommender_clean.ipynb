# Install dependencies (safe to re-run)
import sys, subprocess

def pip_install(packages):
    try:
        subprocess.check_call([sys.executable, "-m", "pip", "install", "-q"] + packages)
    except Exception as e:
        print("Warning: pip install failed for", packages, "->", e)

required = [
    "pandas>=2.0.0",
    "numpy>=1.24.0",
    "scikit-learn>=1.3.0",
    "scipy>=1.10.0",
    "seaborn>=0.12.0",
    "matplotlib>=3.7.0",
    "surprise>=0.1.1"
]

pip_install(required)
print("Dependencies checked.")## Movie Recommendation System (CF + CBF + Hybrid)

This notebook builds a full recommendation system using a Kaggle dataset containing user ratings and movie metadata. It includes:
- Data loading and cleaning (auto-detects common schemas)
- EDA visualizations
- Collaborative Filtering (SVD) with RMSE evaluation
- Content-Based Filtering (TF-IDF over genres/keywords)
- Optional Hybrid recommender
- `recommend_movies(user_id, n=10, strategy='hybrid')`
- Utility to update with new ratings

Usage steps:
1) Set `DATA_DIR` to the directory containing your CSV files (e.g., Kaggle download path).
2) Run all cells. If your column names differ, the loader tries to auto-detect them.

Optional Kaggle download example:
```python
import kagglehub
path = kagglehub.dataset_download("shivamb/netflix-shows")
print("Path to dataset files:", path)
# Then set DATA_DIR = path
```
